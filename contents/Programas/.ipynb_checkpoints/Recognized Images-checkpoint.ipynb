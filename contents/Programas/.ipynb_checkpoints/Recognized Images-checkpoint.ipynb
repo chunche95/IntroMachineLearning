{
 "cells": [
  {
   "cell_type": "markdown",
   "metadata": {},
   "source": [
    "# Inteligencia Artificial y Machine Learning: Reconocimiento de imágenes con YOLO.\n",
    "\n",
    "YOLO(You Only Look Once) es un sistema de detección de objetos que funciona sobre Darknet. \n",
    "Red Neuronal escrita en C que funciona como Framework."
   ]
  },
  {
   "cell_type": "markdown",
   "metadata": {},
   "source": [
    "## Instalación y compliación de Darknet.\n",
    "Instalar DarkNet - Clonamos el repostorio del proyecto de GitHub y compilamos el proyecto."
   ]
  },
  {
   "cell_type": "code",
   "execution_count": 1,
   "metadata": {},
   "outputs": [
    {
     "ename": "SyntaxError",
     "evalue": "invalid syntax (<ipython-input-1-66dfb7c0ed96>, line 2)",
     "output_type": "error",
     "traceback": [
      "\u001b[1;36m  File \u001b[1;32m\"<ipython-input-1-66dfb7c0ed96>\"\u001b[1;36m, line \u001b[1;32m2\u001b[0m\n\u001b[1;33m    git clone https://github.com/pjreddie/darknet\u001b[0m\n\u001b[1;37m            ^\u001b[0m\n\u001b[1;31mSyntaxError\u001b[0m\u001b[1;31m:\u001b[0m invalid syntax\n"
     ]
    }
   ],
   "source": [
    "# Clonamos el repositorio con el proyecto \n",
    "git clone https://github.com/pjreddie/darknet\n",
    "# Entramos en la carpeta ‘darknet'\n",
    "cd darknet\n",
    "# compilamos el proyecto\n",
    "make"
   ]
  },
  {
   "cell_type": "markdown",
   "metadata": {},
   "source": [
    "## Descargamos YOLO \n",
    "Una vez compilado Darnet sin errores, toca descargar la RN entrenada, ya con los ejemplos "
   ]
  },
  {
   "cell_type": "code",
   "execution_count": null,
   "metadata": {},
   "outputs": [],
   "source": [
    "wget https://pjreddie.com/media/files/yolov3.weights"
   ]
  },
  {
   "cell_type": "markdown",
   "metadata": {},
   "source": [
    "## Uso del sistema de reconocimiento de objetos."
   ]
  },
  {
   "cell_type": "markdown",
   "metadata": {},
   "source": [
    "- 'detect' es la función.\n",
    "- 'cfg/yolov3.cfg' es el fichero de configuración del fichero ya entrenado.\n",
    "Viene por defecto con DarkNet.\n",
    "- 'yolov3.weights'es el fichero entrenado para procesar la imagen (Nos lo acabamos de descargar).\n",
    "- Es la imagen a procesar. Si se omite, Darknet irá preguntando imágenes hasta que hagamos Cntl+C. \n",
    "Es muy recomendable cuando queremos procesar varias imágenes porque así no tenemos que andar cargando el \n",
    "fichero de YOLO cada vez."
   ]
  },
  {
   "cell_type": "code",
   "execution_count": null,
   "metadata": {},
   "outputs": [],
   "source": [
    "./darknet detect cfg/yolov3.cfg yolov3.weights <imagen>"
   ]
  }
 ],
 "metadata": {
  "kernelspec": {
   "display_name": "Python 3",
   "language": "python",
   "name": "python3"
  },
  "language_info": {
   "codemirror_mode": {
    "name": "ipython",
    "version": 3
   },
   "file_extension": ".py",
   "mimetype": "text/x-python",
   "name": "python",
   "nbconvert_exporter": "python",
   "pygments_lexer": "ipython3",
   "version": "3.7.4"
  }
 },
 "nbformat": 4,
 "nbformat_minor": 4
}
