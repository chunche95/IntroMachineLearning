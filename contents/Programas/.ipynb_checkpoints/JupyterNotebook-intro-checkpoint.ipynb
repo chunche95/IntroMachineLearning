{
 "cells": [
  {
   "cell_type": "markdown",
   "metadata": {},
   "source": [
    "# Jupyter Notebook\n",
    "Es una aplicación cliente-servidor lanzada en 2015 por la organización sin ánimo de lucro \n",
    "Proyecto Jupyter. Permite crear y compartir documentos web en formato JSON que siguen un esquema \n",
    "versionado y una lista ordenada de celdas en entrada y de salida.\n",
    "Jupyter proviene de unir los 3 lenguajes de núcleo Julia, Python y R.\n",
    "_________________________________________________________________\n",
    "Los beneficios de Jupyter Notebook:\n",
    "- Código abierto (licencia BSD modificada)\n",
    "- Gratuito\n",
    "- Funciona en el navegador\n",
    "- Código en vivo (Live-Code)\n",
    "- Diferentes opciones a la hora de exportar y compartir los resultados\n",
    "- Control de versiones\n",
    "- Permite colaboración (JupyterHub)\n",
    "- Soporta más de 50 lenguajes de programación"
   ]
  },
  {
   "cell_type": "code",
   "execution_count": 2,
   "metadata": {},
   "outputs": [],
   "source": [
    "def busqueda_binaria(array, valor):\n",
    "    a = 0\n",
    "    b = len(array)\n",
    "    \n",
    "    while a < b:\n",
    "        m = (a+b)//2\n",
    "        if array[m] == valor:\n",
    "            return m \n",
    "        elif array[m] < valor:\n",
    "            a = m+1 \n",
    "        else:\n",
    "            b=m\n",
    "    return None\n",
    "x1= [0,1,2,3,4,5,6,7,8]\n",
    "x2= [1,4,8,12,21,42]\n",
    "x3= [0,1,4,8,16,32,64,128]"
   ]
  },
  {
   "cell_type": "markdown",
   "metadata": {},
   "source": [
    "# La librería matplotib.pyplot\n",
    "Nos ofrece multitud de opciones a la hora de trabajar con gráficas, desde pintar varias funciones en la misma figura, con diferentes colores o diseños, hasta indicar por ejemplo el máximo de una función."
   ]
  },
  {
   "cell_type": "code",
   "execution_count": 6,
   "metadata": {},
   "outputs": [],
   "source": [
    "import matplotlib.pyplot as plt\n",
    "plt.annotate?"
   ]
  },
  {
   "cell_type": "code",
   "execution_count": 8,
   "metadata": {},
   "outputs": [
    {
     "data": {
      "image/png": "[encoded data removed]",
      "text/plain": [
       "<Figure size 432x288 with 1 Axes>"
      ]
     },
     "metadata": {
      "needs_background": "light"
     },
     "output_type": "display_data"
    }
   ],
   "source": [
    "import matplotlib.pyplot as plt \n",
    "import numpy as np \n",
    "\n",
    "x_data = np.arange(-5,6)\n",
    "y_data = 5-np.absolute(x_data)\n",
    "\n",
    "plt.plot(x_data, y_data)\n",
    "plt.annotate('máx', xy=(0,5),\n",
    "            arrowprops=dict(facecolor='red', shrink=0.005))\n",
    "plt.show()"
   ]
  },
  {
   "cell_type": "code",
   "execution_count": 9,
   "metadata": {},
   "outputs": [
    {
     "data": {
      "image/png": "[encoded data removed]",
      "text/plain": [
       "<Figure size 432x288 with 1 Axes>"
      ]
     },
     "metadata": {
      "needs_background": "light"
     },
     "output_type": "display_data"
    }
   ],
   "source": [
    "import matplotlib.pyplot as plt\n",
    "def pow(list,exp): return [x**exp for x in list]\n",
    "\n",
    "x=[1,2,3,4]\n",
    "\n",
    "plt.plot(x, x, 'r^', x, pow(x,2), 'gs', x, pow(x,3), 'bo')\n",
    "plt.show()"
   ]
  },
  {
   "cell_type": "code",
   "execution_count": 20,
   "metadata": {},
   "outputs": [
    {
     "name": "stdout",
     "output_type": "stream",
     "text": [
      "Introduction a Jupyter Notebook 👍 for use at 🐍\n"
     ]
    }
   ],
   "source": [
    "import emojis\n",
    "print(emojis.encode('Introduction a Jupyter Notebook :thumbsup: for use at 🐍'))"
   ]
  }
 ],
 "metadata": {
  "kernelspec": {
   "display_name": "Python 3",
   "language": "python",
   "name": "python3"
  },
  "language_info": {
   "codemirror_mode": {
    "name": "ipython",
    "version": 3
   },
   "file_extension": ".py",
   "mimetype": "text/x-python",
   "name": "python",
   "nbconvert_exporter": "python",
   "pygments_lexer": "ipython3",
   "version": "3.7.4"
  }
 },
 "nbformat": 4,
 "nbformat_minor": 4
}
