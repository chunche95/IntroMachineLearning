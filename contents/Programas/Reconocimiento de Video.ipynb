{
 "cells": [
  {
   "cell_type": "code",
   "execution_count": null,
   "metadata": {},
   "outputs": [],
   "source": [
    "import cv2 \n",
    "\n",
    "webcam = cv2.VideoCapture(0)\n",
    "cascPath = \"Cascades/hearcascade_frontalface_dafault.xml\"\n",
    "faceCascade = cv2.CascadeClassifier(cascPath)\n",
    "\n",
    "count = 0 \n",
    "while(True):\n",
    "    _, imagenChunche = webcam.read()\n",
    "    grises = cv2.cvtColor(imagenChunche, cv2.COLOR_BGR2GRAY)\n",
    "    rostro = faceCascade.detectMultiScale(grises,1.5,5)\n",
    "    for(x,y,w,h) in rostro:\n",
    "        cv2.rectangle(imagenChunche, (x,y))"
   ]
  }
 ],
 "metadata": {
  "kernelspec": {
   "display_name": "Python 3",
   "language": "python",
   "name": "python3"
  },
  "language_info": {
   "codemirror_mode": {
    "name": "ipython",
    "version": 3
   },
   "file_extension": ".py",
   "mimetype": "text/x-python",
   "name": "python",
   "nbconvert_exporter": "python",
   "pygments_lexer": "ipython3",
   "version": "3.7.4"
  }
 },
 "nbformat": 4,
 "nbformat_minor": 4
}
