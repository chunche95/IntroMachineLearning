{
 "cells": [
  {
   "cell_type": "markdown",
   "metadata": {},
   "source": [
    "# Stock Price Predicting using Python & Machine Learning.\n",
    "\n",
    "This program uses an artificial recurrent neural network called Long Short Term Memory (LSTM) to predict the closing stock price of a corporation (Apple Inc.) using the past 60 day stock price."
   ]
  },
  {
   "cell_type": "code",
   "execution_count": 115,
   "metadata": {},
   "outputs": [],
   "source": [
    "# Import the labraries\n",
    "import math\n",
    "import pandas_datareader as web\n",
    "import numpy as np\n",
    "import pandas as pd\n",
    "import matplotlib\n",
    "import matplotlib.pyplot as plt\n",
    "\n",
    "from sklearn.preprocessing import MinMaxScaler\n",
    "from keras.models import Sequential\n",
    "from keras.layers import Dense, LSTM\n",
    "from matplotlib.pyplot import figure\n",
    " \n",
    "plt.style.use('fivethirtyeight')"
   ]
  },
  {
   "cell_type": "code",
   "execution_count": 116,
   "metadata": {},
   "outputs": [
    {
     "data": {
      "text/html": [
       "<div>\n",
       "<style scoped>\n",
       "    .dataframe tbody tr th:only-of-type {\n",
       "        vertical-align: middle;\n",
       "    }\n",
       "\n",
       "    .dataframe tbody tr th {\n",
       "        vertical-align: top;\n",
       "    }\n",
       "\n",
       "    .dataframe thead th {\n",
       "        text-align: right;\n",
       "    }\n",
       "</style>\n",
       "<table border=\"1\" class=\"dataframe\">\n",
       "  <thead>\n",
       "    <tr style=\"text-align: right;\">\n",
       "      <th></th>\n",
       "      <th>High</th>\n",
       "      <th>Low</th>\n",
       "      <th>Open</th>\n",
       "      <th>Close</th>\n",
       "      <th>Volume</th>\n",
       "      <th>Adj Close</th>\n",
       "    </tr>\n",
       "    <tr>\n",
       "      <th>Date</th>\n",
       "      <th></th>\n",
       "      <th></th>\n",
       "      <th></th>\n",
       "      <th></th>\n",
       "      <th></th>\n",
       "      <th></th>\n",
       "    </tr>\n",
       "  </thead>\n",
       "  <tbody>\n",
       "    <tr>\n",
       "      <th>2000-01-03</th>\n",
       "      <td>4.017857</td>\n",
       "      <td>3.631696</td>\n",
       "      <td>3.745536</td>\n",
       "      <td>3.997768</td>\n",
       "      <td>133949200.0</td>\n",
       "      <td>3.470226</td>\n",
       "    </tr>\n",
       "    <tr>\n",
       "      <th>2000-01-04</th>\n",
       "      <td>3.950893</td>\n",
       "      <td>3.613839</td>\n",
       "      <td>3.866071</td>\n",
       "      <td>3.660714</td>\n",
       "      <td>128094400.0</td>\n",
       "      <td>3.177650</td>\n",
       "    </tr>\n",
       "    <tr>\n",
       "      <th>2000-01-05</th>\n",
       "      <td>3.948661</td>\n",
       "      <td>3.678571</td>\n",
       "      <td>3.705357</td>\n",
       "      <td>3.714286</td>\n",
       "      <td>194580400.0</td>\n",
       "      <td>3.224152</td>\n",
       "    </tr>\n",
       "    <tr>\n",
       "      <th>2000-01-06</th>\n",
       "      <td>3.821429</td>\n",
       "      <td>3.392857</td>\n",
       "      <td>3.790179</td>\n",
       "      <td>3.392857</td>\n",
       "      <td>191993200.0</td>\n",
       "      <td>2.945139</td>\n",
       "    </tr>\n",
       "    <tr>\n",
       "      <th>2000-01-07</th>\n",
       "      <td>3.607143</td>\n",
       "      <td>3.410714</td>\n",
       "      <td>3.446429</td>\n",
       "      <td>3.553571</td>\n",
       "      <td>115183600.0</td>\n",
       "      <td>3.084645</td>\n",
       "    </tr>\n",
       "    <tr>\n",
       "      <th>...</th>\n",
       "      <td>...</td>\n",
       "      <td>...</td>\n",
       "      <td>...</td>\n",
       "      <td>...</td>\n",
       "      <td>...</td>\n",
       "      <td>...</td>\n",
       "    </tr>\n",
       "    <tr>\n",
       "      <th>2020-02-10</th>\n",
       "      <td>321.549988</td>\n",
       "      <td>313.850006</td>\n",
       "      <td>314.179993</td>\n",
       "      <td>321.549988</td>\n",
       "      <td>27337200.0</td>\n",
       "      <td>321.549988</td>\n",
       "    </tr>\n",
       "    <tr>\n",
       "      <th>2020-02-11</th>\n",
       "      <td>323.899994</td>\n",
       "      <td>318.709991</td>\n",
       "      <td>323.600006</td>\n",
       "      <td>319.609985</td>\n",
       "      <td>23580800.0</td>\n",
       "      <td>319.609985</td>\n",
       "    </tr>\n",
       "    <tr>\n",
       "      <th>2020-02-12</th>\n",
       "      <td>327.220001</td>\n",
       "      <td>321.470001</td>\n",
       "      <td>321.470001</td>\n",
       "      <td>327.200012</td>\n",
       "      <td>28432600.0</td>\n",
       "      <td>327.200012</td>\n",
       "    </tr>\n",
       "    <tr>\n",
       "      <th>2020-02-13</th>\n",
       "      <td>326.220001</td>\n",
       "      <td>323.350006</td>\n",
       "      <td>324.190002</td>\n",
       "      <td>324.869995</td>\n",
       "      <td>23686900.0</td>\n",
       "      <td>324.869995</td>\n",
       "    </tr>\n",
       "    <tr>\n",
       "      <th>2020-02-14</th>\n",
       "      <td>325.980011</td>\n",
       "      <td>322.850006</td>\n",
       "      <td>324.739990</td>\n",
       "      <td>324.950012</td>\n",
       "      <td>20028400.0</td>\n",
       "      <td>324.950012</td>\n",
       "    </tr>\n",
       "  </tbody>\n",
       "</table>\n",
       "<p>5062 rows × 6 columns</p>\n",
       "</div>"
      ],
      "text/plain": [
       "                  High         Low        Open       Close       Volume  \\\n",
       "Date                                                                      \n",
       "2000-01-03    4.017857    3.631696    3.745536    3.997768  133949200.0   \n",
       "2000-01-04    3.950893    3.613839    3.866071    3.660714  128094400.0   \n",
       "2000-01-05    3.948661    3.678571    3.705357    3.714286  194580400.0   \n",
       "2000-01-06    3.821429    3.392857    3.790179    3.392857  191993200.0   \n",
       "2000-01-07    3.607143    3.410714    3.446429    3.553571  115183600.0   \n",
       "...                ...         ...         ...         ...          ...   \n",
       "2020-02-10  321.549988  313.850006  314.179993  321.549988   27337200.0   \n",
       "2020-02-11  323.899994  318.709991  323.600006  319.609985   23580800.0   \n",
       "2020-02-12  327.220001  321.470001  321.470001  327.200012   28432600.0   \n",
       "2020-02-13  326.220001  323.350006  324.190002  324.869995   23686900.0   \n",
       "2020-02-14  325.980011  322.850006  324.739990  324.950012   20028400.0   \n",
       "\n",
       "             Adj Close  \n",
       "Date                    \n",
       "2000-01-03    3.470226  \n",
       "2000-01-04    3.177650  \n",
       "2000-01-05    3.224152  \n",
       "2000-01-06    2.945139  \n",
       "2000-01-07    3.084645  \n",
       "...                ...  \n",
       "2020-02-10  321.549988  \n",
       "2020-02-11  319.609985  \n",
       "2020-02-12  327.200012  \n",
       "2020-02-13  324.869995  \n",
       "2020-02-14  324.950012  \n",
       "\n",
       "[5062 rows x 6 columns]"
      ]
     },
     "execution_count": 116,
     "metadata": {},
     "output_type": "execute_result"
    }
   ],
   "source": [
    "# Get  the stock quote\n",
    "df = web.DataReader(\"AAPL\", start='2000-01-01', end='2020-02-17', data_source='yahoo')\n",
    "# Show the data\n",
    "df"
   ]
  },
  {
   "cell_type": "code",
   "execution_count": 117,
   "metadata": {},
   "outputs": [
    {
     "data": {
      "text/plain": [
       "(5062, 6)"
      ]
     },
     "execution_count": 117,
     "metadata": {},
     "output_type": "execute_result"
    }
   ],
   "source": [
    "# Get the number of rows and columns in the data set \n",
    "df.shape"
   ]
  },
  {
   "cell_type": "code",
   "execution_count": 123,
   "metadata": {},
   "outputs": [
    {
     "ename": "SyntaxError",
     "evalue": "invalid syntax (<ipython-input-123-368d08565667>, line 3)",
     "output_type": "error",
     "traceback": [
      "\u001b[1;36m  File \u001b[1;32m\"<ipython-input-123-368d08565667>\"\u001b[1;36m, line \u001b[1;32m3\u001b[0m\n\u001b[1;33m    plt.title('Close Price History')\u001b[0m\n\u001b[1;37m      ^\u001b[0m\n\u001b[1;31mSyntaxError\u001b[0m\u001b[1;31m:\u001b[0m invalid syntax\n"
     ]
    }
   ],
   "source": [
    "# Visualize the closing price history\n",
    "figure['var_diaria'.plt(figsize=(16,8))\n",
    "plt.title('Close Price History')\n",
    "plt.plot(df['Close'])\n",
    "plt.xlabel('Date', fontsize=18)\n",
    "plt.ylabel('Close Price USD ($)', fontsize=18)\n",
    "plt.show()"
   ]
  },
  {
   "cell_type": "code",
   "execution_count": 95,
   "metadata": {},
   "outputs": [
    {
     "data": {
      "text/plain": [
       "3618"
      ]
     },
     "execution_count": 95,
     "metadata": {},
     "output_type": "execute_result"
    }
   ],
   "source": [
    "# Create a new dataframe with only the 'Close column\n",
    "data = df.filter(['Close'])\n",
    "# Convert the dataframe to a numpy array\n",
    "dataset = data.values\n",
    "#Get the number of rows to train the model on\n",
    "training_data_len = math.ceil( len(dataset) * .8 )\n",
    "training_data_len"
   ]
  },
  {
   "cell_type": "code",
   "execution_count": 96,
   "metadata": {},
   "outputs": [
    {
     "data": {
      "text/plain": [
       "array([[0.00260184],\n",
       "       [0.0026734 ],\n",
       "       [0.00270151],\n",
       "       ...,\n",
       "       [0.98117882],\n",
       "       [0.99803194],\n",
       "       [1.        ]])"
      ]
     },
     "execution_count": 96,
     "metadata": {},
     "output_type": "execute_result"
    }
   ],
   "source": [
    "# Scale the data\n",
    "scaler = MinMaxScaler(feature_range=(0,1))\n",
    "scaled_data = scaler.fit_transform(dataset)\n",
    "scaled_data"
   ]
  },
  {
   "cell_type": "code",
   "execution_count": 97,
   "metadata": {},
   "outputs": [
    {
     "name": "stdout",
     "output_type": "stream",
     "text": [
      "[array([0.00260184, 0.0026734 , 0.00270151, 0.0024996 , 0.00242548,\n",
      "       0.00218012, 0.00207278, 0.00202677, 0.00205233, 0.0021929 ,\n",
      "       0.00195777, 0.00239226, 0.00231303, 0.00222357, 0.00253027,\n",
      "       0.00257883, 0.00258906, 0.00259417, 0.00254305, 0.00280375,\n",
      "       0.00296477, 0.00288553, 0.00312578, 0.00315134, 0.00295199,\n",
      "       0.00285742, 0.00278841, 0.00303122, 0.00296221, 0.00303888,\n",
      "       0.0029341 , 0.00275519, 0.00242804, 0.00255839, 0.00214179,\n",
      "       0.00245871, 0.00273218, 0.0026964 , 0.00225936, 0.0021929 ,\n",
      "       0.00264017, 0.00285486, 0.00266062, 0.00279864, 0.00287787,\n",
      "       0.00294943, 0.00305166, 0.00296477, 0.00290598, 0.00289065,\n",
      "       0.00302355, 0.00296988, 0.00299799, 0.00301588, 0.00284975,\n",
      "       0.00280375, 0.00261462, 0.00264273, 0.00264529, 0.0026964 ])]\n",
      "[0.0028983138456882473]\n",
      "\n",
      "[array([0.00260184, 0.0026734 , 0.00270151, 0.0024996 , 0.00242548,\n",
      "       0.00218012, 0.00207278, 0.00202677, 0.00205233, 0.0021929 ,\n",
      "       0.00195777, 0.00239226, 0.00231303, 0.00222357, 0.00253027,\n",
      "       0.00257883, 0.00258906, 0.00259417, 0.00254305, 0.00280375,\n",
      "       0.00296477, 0.00288553, 0.00312578, 0.00315134, 0.00295199,\n",
      "       0.00285742, 0.00278841, 0.00303122, 0.00296221, 0.00303888,\n",
      "       0.0029341 , 0.00275519, 0.00242804, 0.00255839, 0.00214179,\n",
      "       0.00245871, 0.00273218, 0.0026964 , 0.00225936, 0.0021929 ,\n",
      "       0.00264017, 0.00285486, 0.00266062, 0.00279864, 0.00287787,\n",
      "       0.00294943, 0.00305166, 0.00296477, 0.00290598, 0.00289065,\n",
      "       0.00302355, 0.00296988, 0.00299799, 0.00301588, 0.00284975,\n",
      "       0.00280375, 0.00261462, 0.00264273, 0.00264529, 0.0026964 ]), array([0.0026734 , 0.00270151, 0.0024996 , 0.00242548, 0.00218012,\n",
      "       0.00207278, 0.00202677, 0.00205233, 0.0021929 , 0.00195777,\n",
      "       0.00239226, 0.00231303, 0.00222357, 0.00253027, 0.00257883,\n",
      "       0.00258906, 0.00259417, 0.00254305, 0.00280375, 0.00296477,\n",
      "       0.00288553, 0.00312578, 0.00315134, 0.00295199, 0.00285742,\n",
      "       0.00278841, 0.00303122, 0.00296221, 0.00303888, 0.0029341 ,\n",
      "       0.00275519, 0.00242804, 0.00255839, 0.00214179, 0.00245871,\n",
      "       0.00273218, 0.0026964 , 0.00225936, 0.0021929 , 0.00264017,\n",
      "       0.00285486, 0.00266062, 0.00279864, 0.00287787, 0.00294943,\n",
      "       0.00305166, 0.00296477, 0.00290598, 0.00289065, 0.00302355,\n",
      "       0.00296988, 0.00299799, 0.00301588, 0.00284975, 0.00280375,\n",
      "       0.00261462, 0.00264273, 0.00264529, 0.0026964 , 0.00289831])]\n",
      "[0.0028983138456882473, 0.002798636244331739]\n",
      "\n"
     ]
    }
   ],
   "source": [
    "# Create the training dataset\n",
    "# Create the scaled training dataset\n",
    "train_data = scaled_data[0:training_data_len, :]\n",
    "# Split the data inot x_train and y_train dataset\n",
    "x_train=[]\n",
    "y_train=[]\n",
    "for i in range(60, len(train_data)):\n",
    "    x_train.append(train_data[i-60:i,0])\n",
    "    y_train.append(train_data[i,0])\n",
    "    if i <= 61:\n",
    "        print(x_train)\n",
    "        print(y_train)\n",
    "        print()"
   ]
  },
  {
   "cell_type": "code",
   "execution_count": 98,
   "metadata": {},
   "outputs": [],
   "source": [
    "# Convert the x_train and y_train to numpy arrays\n",
    "x_train, y_train = np.array(x_train), np.array(y_train)"
   ]
  },
  {
   "cell_type": "code",
   "execution_count": 99,
   "metadata": {},
   "outputs": [
    {
     "data": {
      "text/plain": [
       "(3558, 60, 1)"
      ]
     },
     "execution_count": 99,
     "metadata": {},
     "output_type": "execute_result"
    }
   ],
   "source": [
    "# Reshape the data\n",
    "x_train = np.reshape(x_train, (x_train.shape[0], x_train.shape[1],1))\n",
    "x_train.shape"
   ]
  },
  {
   "cell_type": "code",
   "execution_count": 100,
   "metadata": {},
   "outputs": [],
   "source": [
    "# Build the LSTM model\n",
    "\n",
    "model = Sequential()\n",
    "model.add(LSTM(50, return_sequences=True, input_shape= (x_train.shape[1],1)))\n",
    "model.add(LSTM(50, return_sequences=False))\n",
    "model.add(Dense(25))\n",
    "model.add(Dense(1))"
   ]
  },
  {
   "cell_type": "code",
   "execution_count": 101,
   "metadata": {},
   "outputs": [],
   "source": [
    "# Compile the model\n",
    "model.compile(optimizer='adam', loss='mean_squared_error')"
   ]
  },
  {
   "cell_type": "code",
   "execution_count": 102,
   "metadata": {},
   "outputs": [
    {
     "name": "stdout",
     "output_type": "stream",
     "text": [
      "Epoch 1/1\n",
      "3558/3558 [==============================] - 89s 25ms/step - loss: 2.7805e-04\n"
     ]
    },
    {
     "data": {
      "text/plain": [
       "<keras.callbacks.callbacks.History at 0x26137197b88>"
      ]
     },
     "execution_count": 102,
     "metadata": {},
     "output_type": "execute_result"
    }
   ],
   "source": [
    "# Train the model\n",
    "model.fit(x_train, y_train, batch_size=1, epochs=1)"
   ]
  },
  {
   "cell_type": "code",
   "execution_count": 103,
   "metadata": {},
   "outputs": [],
   "source": [
    "# Create the testing dataset\n",
    "# Create a new array containing scaled values from index 1543 to 2002\n",
    "test_data = scaled_data[training_data_len -60: , :]\n",
    "# Create the data set x_test and y_test\n",
    "x_test=[]\n",
    "y_test = dataset[training_data_len:,:]\n",
    "for i in range(60, len(test_data)):\n",
    "    x_test.append(test_data[i-60:i, 0])"
   ]
  },
  {
   "cell_type": "code",
   "execution_count": 104,
   "metadata": {},
   "outputs": [],
   "source": [
    "# Convert the data to a numpy array\n",
    "x_test = np.array(x_test)"
   ]
  },
  {
   "cell_type": "code",
   "execution_count": 105,
   "metadata": {},
   "outputs": [],
   "source": [
    "# Reshape the data\n",
    "x_test = np.reshape(x_test, (x_test.shape[0], x_test.shape[1],1))"
   ]
  },
  {
   "cell_type": "code",
   "execution_count": 106,
   "metadata": {},
   "outputs": [
    {
     "data": {
      "text/plain": [
       "6.0356787953719815"
      ]
     },
     "execution_count": 106,
     "metadata": {},
     "output_type": "execute_result"
    }
   ],
   "source": [
    "# Get the model predicted price value\n",
    "predict = model.predict(x_test)\n",
    "predict = scaler.inverse_transform(predict)\n",
    "# Get the root mean squared error (RMSE)\n",
    "rmse = np.sqrt(np.mean(((predict - y_test )**2)))\n",
    "rmse"
   ]
  },
  {
   "cell_type": "code",
   "execution_count": 107,
   "metadata": {},
   "outputs": [
    {
     "name": "stderr",
     "output_type": "stream",
     "text": [
      "C:\\Users\\HP Omen\\Anaconda3\\lib\\site-packages\\ipykernel_launcher.py:4: SettingWithCopyWarning: \n",
      "A value is trying to be set on a copy of a slice from a DataFrame.\n",
      "Try using .loc[row_indexer,col_indexer] = value instead\n",
      "\n",
      "See the caveats in the documentation: https://pandas.pydata.org/pandas-docs/stable/user_guide/indexing.html#returning-a-view-versus-a-copy\n",
      "  after removing the cwd from sys.path.\n"
     ]
    },
    {
     "ename": "TypeError",
     "evalue": "'tuple' object is not callable",
     "output_type": "error",
     "traceback": [
      "\u001b[1;31m---------------------------------------------------------------------------\u001b[0m",
      "\u001b[1;31mTypeError\u001b[0m                                 Traceback (most recent call last)",
      "\u001b[1;32m<ipython-input-107-1d963dd87f84>\u001b[0m in \u001b[0;36m<module>\u001b[1;34m\u001b[0m\n\u001b[0;32m      4\u001b[0m \u001b[0mvalid\u001b[0m\u001b[1;33m[\u001b[0m\u001b[1;34m'Predictions'\u001b[0m\u001b[1;33m]\u001b[0m \u001b[1;33m=\u001b[0m \u001b[0mpredict\u001b[0m\u001b[1;33m\u001b[0m\u001b[1;33m\u001b[0m\u001b[0m\n\u001b[0;32m      5\u001b[0m \u001b[1;31m# Visualize the data\u001b[0m\u001b[1;33m\u001b[0m\u001b[1;33m\u001b[0m\u001b[1;33m\u001b[0m\u001b[0m\n\u001b[1;32m----> 6\u001b[1;33m \u001b[0mplt\u001b[0m\u001b[1;33m.\u001b[0m\u001b[0mfigure\u001b[0m\u001b[1;33m(\u001b[0m\u001b[0mfigsize\u001b[0m\u001b[1;33m=\u001b[0m\u001b[1;33m(\u001b[0m\u001b[1;36m16\u001b[0m\u001b[1;33m,\u001b[0m\u001b[1;36m8\u001b[0m\u001b[1;33m)\u001b[0m\u001b[1;33m)\u001b[0m\u001b[1;33m\u001b[0m\u001b[1;33m\u001b[0m\u001b[0m\n\u001b[0m\u001b[0;32m      7\u001b[0m \u001b[0mplt\u001b[0m\u001b[1;33m.\u001b[0m\u001b[0mtitle\u001b[0m\u001b[1;33m(\u001b[0m\u001b[1;34m'Model'\u001b[0m\u001b[1;33m)\u001b[0m\u001b[1;33m\u001b[0m\u001b[1;33m\u001b[0m\u001b[0m\n\u001b[0;32m      8\u001b[0m \u001b[0mplt\u001b[0m\u001b[1;33m.\u001b[0m\u001b[0mxlabel\u001b[0m\u001b[1;33m(\u001b[0m\u001b[1;34m'Date'\u001b[0m\u001b[1;33m,\u001b[0m \u001b[0mfontsize\u001b[0m\u001b[1;33m=\u001b[0m\u001b[1;36m18\u001b[0m\u001b[1;33m)\u001b[0m\u001b[1;33m\u001b[0m\u001b[1;33m\u001b[0m\u001b[0m\n",
      "\u001b[1;31mTypeError\u001b[0m: 'tuple' object is not callable"
     ]
    }
   ],
   "source": [
    "# Plot the data\n",
    "train = data[:training_data_len]\n",
    "valid = data[training_data_len:]\n",
    "valid['Predictions'] = predict\n",
    "# Visualize the data\n",
    "plt.figure(figsize=(16,8))\n",
    "plt.title('Model')\n",
    "plt.xlabel('Date', fontsize=18)\n",
    "plt.ylabel('Close Price USD ($)', fontsize=18)\n",
    "plt.plot(train['Close'])\n",
    "plt.plot(valid[['Close', 'Predictions']])\n",
    "plt.legend(['Train', 'Val', 'Predictions'], loc='lower right')\n",
    "plt.show()"
   ]
  },
  {
   "cell_type": "code",
   "execution_count": 108,
   "metadata": {},
   "outputs": [
    {
     "data": {
      "text/html": [
       "<div>\n",
       "<style scoped>\n",
       "    .dataframe tbody tr th:only-of-type {\n",
       "        vertical-align: middle;\n",
       "    }\n",
       "\n",
       "    .dataframe tbody tr th {\n",
       "        vertical-align: top;\n",
       "    }\n",
       "\n",
       "    .dataframe thead th {\n",
       "        text-align: right;\n",
       "    }\n",
       "</style>\n",
       "<table border=\"1\" class=\"dataframe\">\n",
       "  <thead>\n",
       "    <tr style=\"text-align: right;\">\n",
       "      <th></th>\n",
       "      <th>Close</th>\n",
       "      <th>Predictions</th>\n",
       "    </tr>\n",
       "    <tr>\n",
       "      <th>Date</th>\n",
       "      <th></th>\n",
       "      <th></th>\n",
       "    </tr>\n",
       "  </thead>\n",
       "  <tbody>\n",
       "    <tr>\n",
       "      <th>2016-05-17</th>\n",
       "      <td>93.489998</td>\n",
       "      <td>91.803398</td>\n",
       "    </tr>\n",
       "    <tr>\n",
       "      <th>2016-05-18</th>\n",
       "      <td>94.559998</td>\n",
       "      <td>92.002975</td>\n",
       "    </tr>\n",
       "    <tr>\n",
       "      <th>2016-05-19</th>\n",
       "      <td>94.199997</td>\n",
       "      <td>92.415993</td>\n",
       "    </tr>\n",
       "    <tr>\n",
       "      <th>2016-05-20</th>\n",
       "      <td>95.220001</td>\n",
       "      <td>92.817154</td>\n",
       "    </tr>\n",
       "    <tr>\n",
       "      <th>2016-05-23</th>\n",
       "      <td>96.430000</td>\n",
       "      <td>93.301224</td>\n",
       "    </tr>\n",
       "    <tr>\n",
       "      <th>...</th>\n",
       "      <td>...</td>\n",
       "      <td>...</td>\n",
       "    </tr>\n",
       "    <tr>\n",
       "      <th>2019-12-11</th>\n",
       "      <td>270.769989</td>\n",
       "      <td>256.392731</td>\n",
       "    </tr>\n",
       "    <tr>\n",
       "      <th>2019-12-12</th>\n",
       "      <td>271.459991</td>\n",
       "      <td>257.386780</td>\n",
       "    </tr>\n",
       "    <tr>\n",
       "      <th>2019-12-13</th>\n",
       "      <td>275.149994</td>\n",
       "      <td>258.409393</td>\n",
       "    </tr>\n",
       "    <tr>\n",
       "      <th>2019-12-16</th>\n",
       "      <td>279.859985</td>\n",
       "      <td>259.846283</td>\n",
       "    </tr>\n",
       "    <tr>\n",
       "      <th>2019-12-17</th>\n",
       "      <td>280.410004</td>\n",
       "      <td>261.927002</td>\n",
       "    </tr>\n",
       "  </tbody>\n",
       "</table>\n",
       "<p>904 rows × 2 columns</p>\n",
       "</div>"
      ],
      "text/plain": [
       "                 Close  Predictions\n",
       "Date                               \n",
       "2016-05-17   93.489998    91.803398\n",
       "2016-05-18   94.559998    92.002975\n",
       "2016-05-19   94.199997    92.415993\n",
       "2016-05-20   95.220001    92.817154\n",
       "2016-05-23   96.430000    93.301224\n",
       "...                ...          ...\n",
       "2019-12-11  270.769989   256.392731\n",
       "2019-12-12  271.459991   257.386780\n",
       "2019-12-13  275.149994   258.409393\n",
       "2019-12-16  279.859985   259.846283\n",
       "2019-12-17  280.410004   261.927002\n",
       "\n",
       "[904 rows x 2 columns]"
      ]
     },
     "execution_count": 108,
     "metadata": {},
     "output_type": "execute_result"
    }
   ],
   "source": [
    "# Show the valid and predicted prices\n",
    "valid"
   ]
  },
  {
   "cell_type": "code",
   "execution_count": 111,
   "metadata": {},
   "outputs": [
    {
     "name": "stdout",
     "output_type": "stream",
     "text": [
      "[[298.4627]]\n"
     ]
    }
   ],
   "source": [
    "# Get the quote\n",
    "apple_quote = web.DataReader('AAPL', data_source='yahoo', start='2002-01-01', end='2020-01-17')\n",
    "# Create a new dataframe\n",
    "new_df = apple_quote.filter(['Close'])\n",
    "# Get teh last 60 day closing price values and convert the dataframe to an array\n",
    "last_60_days = new_df[-60:].values\n",
    "# Scale the data to be values between 0 and 1\n",
    "last_60_days_scaled = scaler.transform(last_60_days)\n",
    "# Create an empty list\n",
    "X_test = []\n",
    "# Append teh past 60 days\n",
    "X_test.append(last_60_days_scaled)\n",
    "# Convert the X_test data set to a numpy array\n",
    "X_test = np.array(X_test)\n",
    "# Reshape the data\n",
    "X_test = np.reshape(X_test, (X_test.shape[0], X_test.shape[1], 1))\n",
    "# Get the predicted scaled price\n",
    "pred_price = model.predict(X_test)\n",
    "# Undo the scaling \n",
    "pred_price = scaler.inverse_transform(pred_price)\n",
    "print(pred_price)"
   ]
  },
  {
   "cell_type": "code",
   "execution_count": 112,
   "metadata": {},
   "outputs": [
    {
     "name": "stdout",
     "output_type": "stream",
     "text": [
      "Date\n",
      "2019-12-18    279.73999\n",
      "Name: Close, dtype: float64\n"
     ]
    }
   ],
   "source": [
    "# Get the quote\n",
    "apple_quote2 = web.DataReader('AAPL', data_source='yahoo', start='2019-12-18', end='2019-12-18')\n",
    "print(apple_quote2['Close'])"
   ]
  }
 ],
 "metadata": {
  "kernelspec": {
   "display_name": "Python 3",
   "language": "python",
   "name": "python3"
  },
  "language_info": {
   "codemirror_mode": {
    "name": "ipython",
    "version": 3
   },
   "file_extension": ".py",
   "mimetype": "text/x-python",
   "name": "python",
   "nbconvert_exporter": "python",
   "pygments_lexer": "ipython3",
   "version": "3.7.4"
  }
 },
 "nbformat": 4,
 "nbformat_minor": 4
}
