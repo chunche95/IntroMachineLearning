{
 "cells": [
  {
   "cell_type": "code",
   "execution_count": null,
   "metadata": {},
   "outputs": [],
   "source": [
    "import tensorflow as tf\n",
    "import matploitlib.pyplot as plt \n",
    "import numpy as np\n",
    "\n",
    "\n",
    "# Ruta raiz\n",
    "PATH = \"/\"\n",
    "\n",
    "# Ruta de datos de entrada \n",
    "INPATH =  PATH + '/inputFlowers'\n",
    "# Ruta de datos de salida\n",
    "OUTPATH = PATH + '/targetFlowers'\n",
    "# Ruta de los checkpoints\n",
    "CKPATH = PATH + '/checkpoints'"
   ]
  }
 ],
 "metadata": {
  "kernelspec": {
   "display_name": "Python 3",
   "language": "python",
   "name": "python3"
  },
  "language_info": {
   "codemirror_mode": {
    "name": "ipython",
    "version": 3
   },
   "file_extension": ".py",
   "mimetype": "text/x-python",
   "name": "python",
   "nbconvert_exporter": "python",
   "pygments_lexer": "ipython3",
   "version": "3.7.4"
  }
 },
 "nbformat": 4,
 "nbformat_minor": 4
}
