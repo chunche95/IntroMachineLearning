{
 "cells": [
  {
   "cell_type": "code",
   "execution_count": 7,
   "metadata": {},
   "outputs": [],
   "source": [
    "import numpy as np \n",
    "import scipy as sc \n",
    "import matplotlib.pyplot as plt \n",
    "from sklearn.datasets import make_circles"
   ]
  },
  {
   "cell_type": "code",
   "execution_count": 19,
   "metadata": {
    "scrolled": true
   },
   "outputs": [
    {
     "data": {
      "image/png": "[encoded data removed]",
      "text/plain": [
       "<Figure size 432x288 with 1 Axes>"
      ]
     },
     "metadata": {
      "needs_background": "light"
     },
     "output_type": "display_data"
    }
   ],
   "source": [
    "# Crear dataset\n",
    "# Para la ayuda make_circles?\n",
    "\n",
    "# Nº de registros de datos\n",
    "n=500\n",
    "# caracteristicas de los registros de nuestros datos\n",
    "p=2\n",
    "\n",
    "X,Y = make_circles(n_samples=n, factor=0.5, noise=0.05)\n",
    "\n",
    "plt.scatter(X[Y==0,0], X[Y==0,1],c=\"skyblue\")\n",
    "plt.scatter(X[Y==1,0], X[Y==1,1],c=\"salmon\")\n",
    "plt.axis(\"equal\")\n",
    "plt.show()"
   ]
  },
  {
   "cell_type": "code",
   "execution_count": 20,
   "metadata": {},
   "outputs": [],
   "source": [
    "# Creamos una clase para \n",
    "# La red neuronal son posibles de vectorizar\n",
    "# Dentro de una misma capa puedo vectorizarlas\n",
    "# Cada capa es un módulo\n",
    "# => Clase para que se refiera a una capa\n",
    "\n",
    "# Clase de la capa de la red\n",
    "class neural_layer():\n",
    "    # Nº de conexiones => n_conn\n",
    "    # Nº de neuronas => n_neur\n",
    "    # Funcion de activacion para las neuronas => act_f\n",
    "    def __init__(self, n_conn, n_neur, act_f):\n",
    "        self.act_f = act_f\n",
    "        self.b = np.random.rand(1,n_neur)*2-1\n",
    "        self.W = np.random.rand(n_conn,n_neur)*2-1\n",
    "        "
   ]
  },
  {
   "cell_type": "code",
   "execution_count": 31,
   "metadata": {},
   "outputs": [
    {
     "data": {
      "text/plain": [
       "[<matplotlib.lines.Line2D at 0x13f06d70>]"
      ]
     },
     "execution_count": 31,
     "metadata": {},
     "output_type": "execute_result"
    },
    {
     "data": {
      "image/png": "[encoded data removed]",
      "text/plain": [
       "<Figure size 432x288 with 1 Axes>"
      ]
     },
     "metadata": {
      "needs_background": "light"
     },
     "output_type": "display_data"
    }
   ],
   "source": [
    "# Funcion de activacion\n",
    "# Son la funcion por la cual se pasa la suma ponderada que se realiza en la neurona \n",
    "# y se introduce en la RN no linealidades que permite combinar muchas neuronas.\n",
    "#\n",
    "\n",
    "sigm = (lambda x: 1 / (1 + np.e ** (-x)),\n",
    "        lambda x: x * (1-x))\n",
    "\n",
    "relu = lambda x: np.maximum(0,x)\n",
    "\n",
    "_x = np.linspace(-5,5, 100)\n",
    "plt.plot(_x, sigm[0](_x), c=\"red\")\n",
    "plt.plot(_x, relu(_x),c=\"blue\")"
   ]
  },
  {
   "cell_type": "code",
   "execution_count": 34,
   "metadata": {},
   "outputs": [
    {
     "data": {
      "text/plain": [
       "[<__main__.neural_layer at 0x1757f2d0>,\n",
       " <__main__.neural_layer at 0x1757f170>,\n",
       " <__main__.neural_layer at 0x1757f130>,\n",
       " <__main__.neural_layer at 0x1757f310>,\n",
       " <__main__.neural_layer at 0x1757f030>,\n",
       " <__main__.neural_layer at 0x1757ff10>]"
      ]
     },
     "execution_count": 34,
     "metadata": {},
     "output_type": "execute_result"
    }
   ],
   "source": [
    "l0 = neural_layer(p,4, sigm)\n",
    "l1 = neural_layer(4, 8, sigm)\n",
    "# ...\n",
    "\n",
    "def create_nn(topology, act_f):\n",
    "    nn=[]\n",
    "    for l, layer in enumerate(topology[:-1]):\n",
    "        nn.append(neural_layer(topology[l], topology[l+1], act_f))\n",
    "        \n",
    "    return nn \n"
   ]
  },
  {
   "cell_type": "code",
   "execution_count": 56,
   "metadata": {},
   "outputs": [
    {
     "ename": "SyntaxError",
     "evalue": "invalid syntax (<ipython-input-56-b60e51c463b6>, line 33)",
     "output_type": "error",
     "traceback": [
      "\u001b[1;36m  File \u001b[1;32m\"<ipython-input-56-b60e51c463b6>\"\u001b[1;36m, line \u001b[1;32m33\u001b[0m\n\u001b[1;33m    else\u001b[0m\n\u001b[1;37m        ^\u001b[0m\n\u001b[1;31mSyntaxError\u001b[0m\u001b[1;31m:\u001b[0m invalid syntax\n"
     ]
    }
   ],
   "source": [
    "topology = [p,4,8,16,8,4,1]\n",
    "\n",
    "neural_net = create_nn(topology, sigm)\n",
    "\n",
    "# Funcion de coste\n",
    "# error cuadrático medio: Yp:, Yr: np.mean((Yp-Yr)**2)\n",
    "l2_cost = (lambda Yp, Yr: np.mean((Yp-Yr)**2),\n",
    "           lambda Yp, Yr: (Yp - Yr))\n",
    "# Entrenamiento de la red neuronal\n",
    "def train(neural_net, X, Y, l2_cost, lr=0.5, train=True):\n",
    "    out = [(None, X)]\n",
    "    #  Forward pass\n",
    "    # Vector de entrada pasarlo capa por capa\n",
    "    # Suma ponderada: Le sumamos el valor de entrada X *W , le sumamos el valor de vallas y luego la suma pasa a la funcion de activacion\n",
    "    for l, layer in enumerate(neural_net):\n",
    "        z = out[-1][1] @ neural_net[l].W + neural_net[l].b\n",
    "        a = neural_net[l].act_f[0](z)\n",
    "        out.append((z,a))\n",
    "        \n",
    "    print(l2_cost[0](out[-1][1],Y))\n",
    "    if train:\n",
    "        # Backward pass\n",
    "        # Calcular derivadas parciales\n",
    "        delta = []\n",
    "        for l in reversed(range(0, len(neural_net))):\n",
    "            z = out[l+1][0]\n",
    "            a = out[l+1][1]\n",
    "            print(a.shape)\n",
    "            \n",
    "            if l == len(neural_net)-1:\n",
    "                # Calcular delta ñultima capa\n",
    "                deltas.insert(0,l2_cost[1](a,Y)*neural_net[l].act_f[1](a))\n",
    "            else\n",
    "                deltas.insert(0,deltas[0] @ neural_net[l+1].W * neural_net[l].act_f[1](a))\n",
    "            # Calcular delta respecto a capa previa\n",
    "        # Gradient descent\n",
    "        \n",
    "train(neural_net,X,Y,l2_cost,0.5)"
   ]
  },
  {
   "cell_type": "code",
   "execution_count": null,
   "metadata": {},
   "outputs": [],
   "source": []
  }
 ],
 "metadata": {
  "kernelspec": {
   "display_name": "Python 3.7.2 32-bit",
   "language": "python",
   "name": "python37232bit307a3f63923749399efd3280e1c625c1"
  },
  "language_info": {
   "codemirror_mode": {
    "name": "ipython",
    "version": 3
   },
   "file_extension": ".py",
   "mimetype": "text/x-python",
   "name": "python",
   "nbconvert_exporter": "python",
   "pygments_lexer": "ipython3",
   "version": "3.7.2"
  }
 },
 "nbformat": 4,
 "nbformat_minor": 4
}
